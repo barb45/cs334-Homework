{
 "cells": [
  {
   "cell_type": "markdown",
   "metadata": {},
   "source": [
    "# DecisionTrees Class Draft"
   ]
  },
  {
   "cell_type": "code",
   "execution_count": 12,
   "metadata": {},
   "outputs": [],
   "source": [
    "import pandas as pd\n",
    "import numpy as np\n",
    "import matplotlib.pyplot as plt\n",
    "import seaborn as sns\n",
    "import csv\n",
    "from collections import Counter, defaultdict\n"
   ]
  },
  {
   "cell_type": "markdown",
   "metadata": {},
   "source": [
    "#### Instantiate from within the class\n",
    "This workbook is only about how to get the data from within the class and the different things I\n",
    "tried"
   ]
  },
  {
   "cell_type": "code",
   "execution_count": 13,
   "metadata": {},
   "outputs": [],
   "source": [
    "#Would like to get the csv from within the class but can't seem to do it, doesn't work\n",
    "def get_data(self):  #These set method \"get data\".  Must put self into the paren\n",
    "    df = pd.read_csv(\"mushrooms.csv\", index_col = \"class\")\n",
    "    return df"
   ]
  },
  {
   "cell_type": "code",
   "execution_count": 14,
   "metadata": {},
   "outputs": [],
   "source": [
    "#Another way I saw to load the data was this, but not sure how this works\n",
    "# data = datasets.load_name_of_file()\n",
    "# X = data.data\n",
    "# y = data.target\n",
    "                "
   ]
  },
  {
   "cell_type": "code",
   "execution_count": 15,
   "metadata": {},
   "outputs": [],
   "source": [
    "class DecisionTrees():\n",
    "    all = []\n",
    "    \n",
    "    def __init__(self, file, columns, rows):\n",
    "        print(f\"An instance created: {file}, {columns}, {rows}\")\n",
    "        \n",
    "        #Assign to self object\n",
    "        self.file = file\n",
    "        self.columns = columns\n",
    "        self.rows = rows\n",
    "                \n",
    "        #Actions to execute\n",
    "        DecisionTrees.all.append(self)\n",
    "        \n",
    "    \n",
    "    #Use a class method to import a csv file into the Class\n",
    "    @classmethod\n",
    "    def instantiate_from_csv(cls):\n",
    "        with open('mushrooms.csv', 'r', encoding = 'utf-8-sig') as f:\n",
    "            reader = csv.reader(f, delimiter = ',')\n",
    "            fields = next(reader)\n",
    "            #Maybe need this instead?\n",
    "            #reader = csv.DictReader(f, skipinitialspace=True) #quotechar= \"'\" #may be required\n",
    "            #items = list(reader)\n",
    "            \n",
    "        #print(fields)\n",
    "        data = []\n",
    "        for row in reader:\n",
    "            data.append(row)\n",
    "        print(data)\n",
    "        \n",
    "        DecisionTrees(\n",
    "            file = str(\"f\"),\n",
    "            columns = str(\"fields\"),\n",
    "            rows = str(\"data\"))\n",
    "                  \n",
    "    #Display all attributes\n",
    "    def __repr__(self):\n",
    "        return f\"DecisionTrees('file = {self.file}', columns = {self.columns}, rows = {self.rows})\"\n",
    "    \n",
    "    def class_size(self):\n",
    "        #This version will return the class size of the two classes p and e\n",
    "        class_size = self.file.groupby(self.rows).size()/len(self.file)\n",
    "        return class_size\n",
    "        print(class_size)\n",
    "        \n",
    "    def class_sizes(self):\n",
    "        #This one will return a column of class sizes for the classes p and e\n",
    "        self.file[\"class_sizes\"] = file.groupby(self.rows).size()/len(self.file)\n",
    "        return self.file.class_sizes\n",
    "        print(self.file.class_sizes)\n",
    "        \n",
    "    #GINI formula:  g(x) = 1-(x**2 + (1-x)**2)\n",
    "    def gini(self):\n",
    "        t = len(self.file)\n",
    "        p = df.groupby(self.y).size()/t\n",
    "        return 1- sum(p **2)\n",
    "    \n",
    "    #Entropy formula H(x) = -(x log_2(x) + (1-x) log_2(1-x)) /// 1/2 H(x)\n",
    "    def entropy(self):\n",
    "        t = len(self.file)\n",
    "        p = df.groupby(self.y).size()/t\n",
    "        return - sum(p*np.log(p.values))\n",
    "        "
   ]
  },
  {
   "cell_type": "code",
   "execution_count": 16,
   "metadata": {},
   "outputs": [],
   "source": [
    "for instance in DecisionTrees.all:\n",
    "    print(instance.name)"
   ]
  },
  {
   "cell_type": "code",
   "execution_count": 17,
   "metadata": {},
   "outputs": [
    {
     "name": "stdout",
     "output_type": "stream",
     "text": [
      "[]\n"
     ]
    }
   ],
   "source": [
    "print(DecisionTrees.all)"
   ]
  },
  {
   "cell_type": "code",
   "execution_count": 18,
   "metadata": {},
   "outputs": [
    {
     "name": "stdout",
     "output_type": "stream",
     "text": [
      "{'__module__': '__main__', 'all': [], '__init__': <function DecisionTrees.__init__ at 0x000001A291AD19D0>, 'instantiate_from_csv': <classmethod object at 0x000001A2919AAD60>, '__repr__': <function DecisionTrees.__repr__ at 0x000001A291AD1CA0>, 'class_size': <function DecisionTrees.class_size at 0x000001A291AD1D30>, 'class_sizes': <function DecisionTrees.class_sizes at 0x000001A291AD1DC0>, 'gini': <function DecisionTrees.gini at 0x000001A291AD1E50>, 'entropy': <function DecisionTrees.entropy at 0x000001A291AD1EE0>, '__dict__': <attribute '__dict__' of 'DecisionTrees' objects>, '__weakref__': <attribute '__weakref__' of 'DecisionTrees' objects>, '__doc__': None}\n"
     ]
    }
   ],
   "source": [
    "print(DecisionTrees.__dict__)\n",
    "#print(tree1.__dict__)"
   ]
  },
  {
   "cell_type": "code",
   "execution_count": 19,
   "metadata": {},
   "outputs": [
    {
     "name": "stdout",
     "output_type": "stream",
     "text": [
      "[]\n"
     ]
    }
   ],
   "source": [
    "print(DecisionTrees.all)"
   ]
  },
  {
   "cell_type": "code",
   "execution_count": 20,
   "metadata": {},
   "outputs": [],
   "source": [
    "#DecisionTrees.instantiate_from_csv()"
   ]
  },
  {
   "cell_type": "code",
   "execution_count": 21,
   "metadata": {},
   "outputs": [],
   "source": [
    "#tree1 = DecisionTrees()"
   ]
  },
  {
   "cell_type": "code",
   "execution_count": 22,
   "metadata": {},
   "outputs": [
    {
     "ename": "NameError",
     "evalue": "name 'tree1' is not defined",
     "output_type": "error",
     "traceback": [
      "\u001b[1;31m---------------------------------------------------------------------------\u001b[0m",
      "\u001b[1;31mNameError\u001b[0m                                 Traceback (most recent call last)",
      "\u001b[1;32m~\\AppData\\Local\\Temp/ipykernel_13836/437261387.py\u001b[0m in \u001b[0;36m<module>\u001b[1;34m\u001b[0m\n\u001b[1;32m----> 1\u001b[1;33m \u001b[0mtree1\u001b[0m\u001b[1;33m.\u001b[0m\u001b[0mgini\u001b[0m\u001b[1;33m(\u001b[0m\u001b[0mself\u001b[0m\u001b[1;33m)\u001b[0m\u001b[1;33m\u001b[0m\u001b[1;33m\u001b[0m\u001b[0m\n\u001b[0m",
      "\u001b[1;31mNameError\u001b[0m: name 'tree1' is not defined"
     ]
    }
   ],
   "source": [
    "tree1.gini(self)"
   ]
  },
  {
   "cell_type": "code",
   "execution_count": null,
   "metadata": {},
   "outputs": [],
   "source": []
  },
  {
   "cell_type": "code",
   "execution_count": null,
   "metadata": {},
   "outputs": [],
   "source": []
  },
  {
   "cell_type": "code",
   "execution_count": null,
   "metadata": {},
   "outputs": [],
   "source": []
  }
 ],
 "metadata": {
  "kernelspec": {
   "display_name": "Python 3 (ipykernel)",
   "language": "python",
   "name": "python3"
  },
  "language_info": {
   "codemirror_mode": {
    "name": "ipython",
    "version": 3
   },
   "file_extension": ".py",
   "mimetype": "text/x-python",
   "name": "python",
   "nbconvert_exporter": "python",
   "pygments_lexer": "ipython3",
   "version": "3.9.7"
  }
 },
 "nbformat": 4,
 "nbformat_minor": 4
}
