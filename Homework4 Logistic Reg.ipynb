{
 "cells": [
  {
   "cell_type": "markdown",
   "id": "e993401a",
   "metadata": {},
   "source": [
    "### Homework4 Logistic Regression - Weather"
   ]
  },
  {
   "cell_type": "code",
   "execution_count": 1,
   "id": "27266cc1",
   "metadata": {},
   "outputs": [],
   "source": [
    "import pandas as pd\n",
    "from matplotlib import pyplot as plt\n",
    "import seaborn as sns"
   ]
  },
  {
   "cell_type": "code",
   "execution_count": 2,
   "id": "f4dd24ae",
   "metadata": {},
   "outputs": [],
   "source": [
    "weather_data = pd.read_csv(\"Boise_rainfall_stats.csv\", skipfooter = 3, skiprows = 0, header = 1, engine = \"python\", index_col = \"Date\", parse_dates = [\"Date\"], usecols = [0,2,5,8,11,14,16]) \n"
   ]
  },
  {
   "cell_type": "code",
   "execution_count": 3,
   "id": "4acf2f1c",
   "metadata": {},
   "outputs": [
    {
     "data": {
      "text/plain": [
       "'Boise, ID Weather History | Weather Underground (wunderground.com)'"
      ]
     },
     "execution_count": 3,
     "metadata": {},
     "output_type": "execute_result"
    }
   ],
   "source": [
    "source = pd.read_csv(\"Boise_rainfall_stats.csv\")\n",
    "source.iloc[375,0]"
   ]
  },
  {
   "cell_type": "code",
   "execution_count": 4,
   "id": "3d88571b",
   "metadata": {},
   "outputs": [
    {
     "data": {
      "text/html": [
       "<div>\n",
       "<style scoped>\n",
       "    .dataframe tbody tr th:only-of-type {\n",
       "        vertical-align: middle;\n",
       "    }\n",
       "\n",
       "    .dataframe tbody tr th {\n",
       "        vertical-align: top;\n",
       "    }\n",
       "\n",
       "    .dataframe thead th {\n",
       "        text-align: right;\n",
       "    }\n",
       "</style>\n",
       "<table border=\"1\" class=\"dataframe\">\n",
       "  <thead>\n",
       "    <tr style=\"text-align: right;\">\n",
       "      <th></th>\n",
       "      <th>Avg</th>\n",
       "      <th>Avg.1</th>\n",
       "      <th>Avg.2</th>\n",
       "      <th>Avg.3</th>\n",
       "      <th>Avg.4</th>\n",
       "      <th>Total</th>\n",
       "    </tr>\n",
       "    <tr>\n",
       "      <th>Date</th>\n",
       "      <th></th>\n",
       "      <th></th>\n",
       "      <th></th>\n",
       "      <th></th>\n",
       "      <th></th>\n",
       "      <th></th>\n",
       "    </tr>\n",
       "  </thead>\n",
       "  <tbody>\n",
       "    <tr>\n",
       "      <th>2021-09-01</th>\n",
       "      <td>62.4</td>\n",
       "      <td>30.7</td>\n",
       "      <td>34.0</td>\n",
       "      <td>5.5</td>\n",
       "      <td>26.9</td>\n",
       "      <td>0.0</td>\n",
       "    </tr>\n",
       "    <tr>\n",
       "      <th>2021-09-02</th>\n",
       "      <td>63.2</td>\n",
       "      <td>31.7</td>\n",
       "      <td>34.6</td>\n",
       "      <td>6.2</td>\n",
       "      <td>27.0</td>\n",
       "      <td>0.0</td>\n",
       "    </tr>\n",
       "  </tbody>\n",
       "</table>\n",
       "</div>"
      ],
      "text/plain": [
       "             Avg  Avg.1  Avg.2  Avg.3  Avg.4  Total\n",
       "Date                                               \n",
       "2021-09-01  62.4   30.7   34.0    5.5   26.9    0.0\n",
       "2021-09-02  63.2   31.7   34.6    6.2   27.0    0.0"
      ]
     },
     "execution_count": 4,
     "metadata": {},
     "output_type": "execute_result"
    }
   ],
   "source": [
    "weather_data.head(2)"
   ]
  },
  {
   "cell_type": "code",
   "execution_count": 5,
   "id": "e29dd607",
   "metadata": {},
   "outputs": [],
   "source": [
    "weather_data.rename(columns = {'Date':'Date', 'Avg':'Temp_Avg', 'Avg.1':'Dew_Pt_Avg', 'Avg.2':'Humidity_Avg', 'Avg.3':'Wind_Speed_Avg', 'Avg.4':'Pressure_Avg', 'Total':'Precipitation'}, inplace = True)"
   ]
  },
  {
   "cell_type": "code",
   "execution_count": 6,
   "id": "94731258",
   "metadata": {},
   "outputs": [
    {
     "data": {
      "text/html": [
       "<div>\n",
       "<style scoped>\n",
       "    .dataframe tbody tr th:only-of-type {\n",
       "        vertical-align: middle;\n",
       "    }\n",
       "\n",
       "    .dataframe tbody tr th {\n",
       "        vertical-align: top;\n",
       "    }\n",
       "\n",
       "    .dataframe thead th {\n",
       "        text-align: right;\n",
       "    }\n",
       "</style>\n",
       "<table border=\"1\" class=\"dataframe\">\n",
       "  <thead>\n",
       "    <tr style=\"text-align: right;\">\n",
       "      <th></th>\n",
       "      <th>Temp_Avg</th>\n",
       "      <th>Dew_Pt_Avg</th>\n",
       "      <th>Humidity_Avg</th>\n",
       "      <th>Wind_Speed_Avg</th>\n",
       "      <th>Pressure_Avg</th>\n",
       "      <th>Precipitation</th>\n",
       "    </tr>\n",
       "    <tr>\n",
       "      <th>Date</th>\n",
       "      <th></th>\n",
       "      <th></th>\n",
       "      <th></th>\n",
       "      <th></th>\n",
       "      <th></th>\n",
       "      <th></th>\n",
       "    </tr>\n",
       "  </thead>\n",
       "  <tbody>\n",
       "    <tr>\n",
       "      <th>2021-09-01</th>\n",
       "      <td>62.4</td>\n",
       "      <td>30.7</td>\n",
       "      <td>34.0</td>\n",
       "      <td>5.5</td>\n",
       "      <td>26.9</td>\n",
       "      <td>0.0</td>\n",
       "    </tr>\n",
       "    <tr>\n",
       "      <th>2021-09-02</th>\n",
       "      <td>63.2</td>\n",
       "      <td>31.7</td>\n",
       "      <td>34.6</td>\n",
       "      <td>6.2</td>\n",
       "      <td>27.0</td>\n",
       "      <td>0.0</td>\n",
       "    </tr>\n",
       "    <tr>\n",
       "      <th>2021-09-03</th>\n",
       "      <td>64.0</td>\n",
       "      <td>27.8</td>\n",
       "      <td>30.2</td>\n",
       "      <td>4.0</td>\n",
       "      <td>27.1</td>\n",
       "      <td>0.0</td>\n",
       "    </tr>\n",
       "    <tr>\n",
       "      <th>2021-09-04</th>\n",
       "      <td>70.3</td>\n",
       "      <td>22.8</td>\n",
       "      <td>18.7</td>\n",
       "      <td>5.2</td>\n",
       "      <td>27.1</td>\n",
       "      <td>0.0</td>\n",
       "    </tr>\n",
       "    <tr>\n",
       "      <th>2021-09-05</th>\n",
       "      <td>74.3</td>\n",
       "      <td>25.3</td>\n",
       "      <td>18.4</td>\n",
       "      <td>5.0</td>\n",
       "      <td>27.0</td>\n",
       "      <td>0.0</td>\n",
       "    </tr>\n",
       "    <tr>\n",
       "      <th>...</th>\n",
       "      <td>...</td>\n",
       "      <td>...</td>\n",
       "      <td>...</td>\n",
       "      <td>...</td>\n",
       "      <td>...</td>\n",
       "      <td>...</td>\n",
       "    </tr>\n",
       "    <tr>\n",
       "      <th>2022-09-03</th>\n",
       "      <td>84.3</td>\n",
       "      <td>29.5</td>\n",
       "      <td>14.9</td>\n",
       "      <td>7.8</td>\n",
       "      <td>27.0</td>\n",
       "      <td>0.0</td>\n",
       "    </tr>\n",
       "    <tr>\n",
       "      <th>2022-09-04</th>\n",
       "      <td>79.3</td>\n",
       "      <td>37.0</td>\n",
       "      <td>25.3</td>\n",
       "      <td>5.3</td>\n",
       "      <td>27.0</td>\n",
       "      <td>0.0</td>\n",
       "    </tr>\n",
       "    <tr>\n",
       "      <th>2022-09-05</th>\n",
       "      <td>78.0</td>\n",
       "      <td>34.1</td>\n",
       "      <td>21.6</td>\n",
       "      <td>6.0</td>\n",
       "      <td>27.0</td>\n",
       "      <td>0.0</td>\n",
       "    </tr>\n",
       "    <tr>\n",
       "      <th>2022-09-06</th>\n",
       "      <td>81.2</td>\n",
       "      <td>37.3</td>\n",
       "      <td>21.8</td>\n",
       "      <td>5.5</td>\n",
       "      <td>27.0</td>\n",
       "      <td>0.0</td>\n",
       "    </tr>\n",
       "    <tr>\n",
       "      <th>2022-09-07</th>\n",
       "      <td>85.7</td>\n",
       "      <td>39.1</td>\n",
       "      <td>21.4</td>\n",
       "      <td>8.6</td>\n",
       "      <td>27.0</td>\n",
       "      <td>0.0</td>\n",
       "    </tr>\n",
       "  </tbody>\n",
       "</table>\n",
       "<p>372 rows × 6 columns</p>\n",
       "</div>"
      ],
      "text/plain": [
       "            Temp_Avg  Dew_Pt_Avg  Humidity_Avg  Wind_Speed_Avg  Pressure_Avg  \\\n",
       "Date                                                                           \n",
       "2021-09-01      62.4        30.7          34.0             5.5          26.9   \n",
       "2021-09-02      63.2        31.7          34.6             6.2          27.0   \n",
       "2021-09-03      64.0        27.8          30.2             4.0          27.1   \n",
       "2021-09-04      70.3        22.8          18.7             5.2          27.1   \n",
       "2021-09-05      74.3        25.3          18.4             5.0          27.0   \n",
       "...              ...         ...           ...             ...           ...   \n",
       "2022-09-03      84.3        29.5          14.9             7.8          27.0   \n",
       "2022-09-04      79.3        37.0          25.3             5.3          27.0   \n",
       "2022-09-05      78.0        34.1          21.6             6.0          27.0   \n",
       "2022-09-06      81.2        37.3          21.8             5.5          27.0   \n",
       "2022-09-07      85.7        39.1          21.4             8.6          27.0   \n",
       "\n",
       "            Precipitation  \n",
       "Date                       \n",
       "2021-09-01            0.0  \n",
       "2021-09-02            0.0  \n",
       "2021-09-03            0.0  \n",
       "2021-09-04            0.0  \n",
       "2021-09-05            0.0  \n",
       "...                   ...  \n",
       "2022-09-03            0.0  \n",
       "2022-09-04            0.0  \n",
       "2022-09-05            0.0  \n",
       "2022-09-06            0.0  \n",
       "2022-09-07            0.0  \n",
       "\n",
       "[372 rows x 6 columns]"
      ]
     },
     "execution_count": 6,
     "metadata": {},
     "output_type": "execute_result"
    }
   ],
   "source": [
    "weather_data"
   ]
  },
  {
   "cell_type": "code",
   "execution_count": 7,
   "id": "4f0150b3",
   "metadata": {},
   "outputs": [
    {
     "name": "stdout",
     "output_type": "stream",
     "text": [
      "<class 'pandas.core.frame.DataFrame'>\n",
      "DatetimeIndex: 372 entries, 2021-09-01 to 2022-09-07\n",
      "Data columns (total 6 columns):\n",
      " #   Column          Non-Null Count  Dtype  \n",
      "---  ------          --------------  -----  \n",
      " 0   Temp_Avg        372 non-null    float64\n",
      " 1   Dew_Pt_Avg      372 non-null    float64\n",
      " 2   Humidity_Avg    372 non-null    float64\n",
      " 3   Wind_Speed_Avg  372 non-null    float64\n",
      " 4   Pressure_Avg    372 non-null    float64\n",
      " 5   Precipitation   372 non-null    float64\n",
      "dtypes: float64(6)\n",
      "memory usage: 20.3 KB\n"
     ]
    }
   ],
   "source": [
    "weather_data.info()"
   ]
  },
  {
   "cell_type": "code",
   "execution_count": 8,
   "id": "a0033311",
   "metadata": {},
   "outputs": [],
   "source": [
    "weather_data.to_csv(\"Boise_rainfall_data.csv\")"
   ]
  },
  {
   "cell_type": "code",
   "execution_count": 9,
   "id": "45d9e0ce",
   "metadata": {},
   "outputs": [],
   "source": [
    "weather_data.loc[weather_data.Precipitation > 0, \"Precipitation\"] = 1"
   ]
  },
  {
   "cell_type": "code",
   "execution_count": 10,
   "id": "d82d0e74",
   "metadata": {},
   "outputs": [
    {
     "data": {
      "text/html": [
       "<div>\n",
       "<style scoped>\n",
       "    .dataframe tbody tr th:only-of-type {\n",
       "        vertical-align: middle;\n",
       "    }\n",
       "\n",
       "    .dataframe tbody tr th {\n",
       "        vertical-align: top;\n",
       "    }\n",
       "\n",
       "    .dataframe thead th {\n",
       "        text-align: right;\n",
       "    }\n",
       "</style>\n",
       "<table border=\"1\" class=\"dataframe\">\n",
       "  <thead>\n",
       "    <tr style=\"text-align: right;\">\n",
       "      <th></th>\n",
       "      <th>Temp_Avg</th>\n",
       "      <th>Dew_Pt_Avg</th>\n",
       "      <th>Humidity_Avg</th>\n",
       "      <th>Wind_Speed_Avg</th>\n",
       "      <th>Pressure_Avg</th>\n",
       "      <th>Precipitation</th>\n",
       "    </tr>\n",
       "    <tr>\n",
       "      <th>Date</th>\n",
       "      <th></th>\n",
       "      <th></th>\n",
       "      <th></th>\n",
       "      <th></th>\n",
       "      <th></th>\n",
       "      <th></th>\n",
       "    </tr>\n",
       "  </thead>\n",
       "  <tbody>\n",
       "    <tr>\n",
       "      <th>2021-09-01</th>\n",
       "      <td>62.4</td>\n",
       "      <td>30.7</td>\n",
       "      <td>34.0</td>\n",
       "      <td>5.5</td>\n",
       "      <td>26.9</td>\n",
       "      <td>0.0</td>\n",
       "    </tr>\n",
       "    <tr>\n",
       "      <th>2021-09-02</th>\n",
       "      <td>63.2</td>\n",
       "      <td>31.7</td>\n",
       "      <td>34.6</td>\n",
       "      <td>6.2</td>\n",
       "      <td>27.0</td>\n",
       "      <td>0.0</td>\n",
       "    </tr>\n",
       "    <tr>\n",
       "      <th>2021-09-03</th>\n",
       "      <td>64.0</td>\n",
       "      <td>27.8</td>\n",
       "      <td>30.2</td>\n",
       "      <td>4.0</td>\n",
       "      <td>27.1</td>\n",
       "      <td>0.0</td>\n",
       "    </tr>\n",
       "    <tr>\n",
       "      <th>2021-09-04</th>\n",
       "      <td>70.3</td>\n",
       "      <td>22.8</td>\n",
       "      <td>18.7</td>\n",
       "      <td>5.2</td>\n",
       "      <td>27.1</td>\n",
       "      <td>0.0</td>\n",
       "    </tr>\n",
       "    <tr>\n",
       "      <th>2021-09-05</th>\n",
       "      <td>74.3</td>\n",
       "      <td>25.3</td>\n",
       "      <td>18.4</td>\n",
       "      <td>5.0</td>\n",
       "      <td>27.0</td>\n",
       "      <td>0.0</td>\n",
       "    </tr>\n",
       "    <tr>\n",
       "      <th>...</th>\n",
       "      <td>...</td>\n",
       "      <td>...</td>\n",
       "      <td>...</td>\n",
       "      <td>...</td>\n",
       "      <td>...</td>\n",
       "      <td>...</td>\n",
       "    </tr>\n",
       "    <tr>\n",
       "      <th>2022-09-03</th>\n",
       "      <td>84.3</td>\n",
       "      <td>29.5</td>\n",
       "      <td>14.9</td>\n",
       "      <td>7.8</td>\n",
       "      <td>27.0</td>\n",
       "      <td>0.0</td>\n",
       "    </tr>\n",
       "    <tr>\n",
       "      <th>2022-09-04</th>\n",
       "      <td>79.3</td>\n",
       "      <td>37.0</td>\n",
       "      <td>25.3</td>\n",
       "      <td>5.3</td>\n",
       "      <td>27.0</td>\n",
       "      <td>0.0</td>\n",
       "    </tr>\n",
       "    <tr>\n",
       "      <th>2022-09-05</th>\n",
       "      <td>78.0</td>\n",
       "      <td>34.1</td>\n",
       "      <td>21.6</td>\n",
       "      <td>6.0</td>\n",
       "      <td>27.0</td>\n",
       "      <td>0.0</td>\n",
       "    </tr>\n",
       "    <tr>\n",
       "      <th>2022-09-06</th>\n",
       "      <td>81.2</td>\n",
       "      <td>37.3</td>\n",
       "      <td>21.8</td>\n",
       "      <td>5.5</td>\n",
       "      <td>27.0</td>\n",
       "      <td>0.0</td>\n",
       "    </tr>\n",
       "    <tr>\n",
       "      <th>2022-09-07</th>\n",
       "      <td>85.7</td>\n",
       "      <td>39.1</td>\n",
       "      <td>21.4</td>\n",
       "      <td>8.6</td>\n",
       "      <td>27.0</td>\n",
       "      <td>0.0</td>\n",
       "    </tr>\n",
       "  </tbody>\n",
       "</table>\n",
       "<p>372 rows × 6 columns</p>\n",
       "</div>"
      ],
      "text/plain": [
       "            Temp_Avg  Dew_Pt_Avg  Humidity_Avg  Wind_Speed_Avg  Pressure_Avg  \\\n",
       "Date                                                                           \n",
       "2021-09-01      62.4        30.7          34.0             5.5          26.9   \n",
       "2021-09-02      63.2        31.7          34.6             6.2          27.0   \n",
       "2021-09-03      64.0        27.8          30.2             4.0          27.1   \n",
       "2021-09-04      70.3        22.8          18.7             5.2          27.1   \n",
       "2021-09-05      74.3        25.3          18.4             5.0          27.0   \n",
       "...              ...         ...           ...             ...           ...   \n",
       "2022-09-03      84.3        29.5          14.9             7.8          27.0   \n",
       "2022-09-04      79.3        37.0          25.3             5.3          27.0   \n",
       "2022-09-05      78.0        34.1          21.6             6.0          27.0   \n",
       "2022-09-06      81.2        37.3          21.8             5.5          27.0   \n",
       "2022-09-07      85.7        39.1          21.4             8.6          27.0   \n",
       "\n",
       "            Precipitation  \n",
       "Date                       \n",
       "2021-09-01            0.0  \n",
       "2021-09-02            0.0  \n",
       "2021-09-03            0.0  \n",
       "2021-09-04            0.0  \n",
       "2021-09-05            0.0  \n",
       "...                   ...  \n",
       "2022-09-03            0.0  \n",
       "2022-09-04            0.0  \n",
       "2022-09-05            0.0  \n",
       "2022-09-06            0.0  \n",
       "2022-09-07            0.0  \n",
       "\n",
       "[372 rows x 6 columns]"
      ]
     },
     "execution_count": 10,
     "metadata": {},
     "output_type": "execute_result"
    }
   ],
   "source": [
    "weather_data"
   ]
  },
  {
   "cell_type": "code",
   "execution_count": 11,
   "id": "6da1a2ba",
   "metadata": {},
   "outputs": [
    {
     "name": "stdout",
     "output_type": "stream",
     "text": [
      "<class 'pandas.core.frame.DataFrame'>\n",
      "DatetimeIndex: 372 entries, 2021-09-01 to 2022-09-07\n",
      "Data columns (total 6 columns):\n",
      " #   Column          Non-Null Count  Dtype  \n",
      "---  ------          --------------  -----  \n",
      " 0   Temp_Avg        372 non-null    float64\n",
      " 1   Dew_Pt_Avg      372 non-null    float64\n",
      " 2   Humidity_Avg    372 non-null    float64\n",
      " 3   Wind_Speed_Avg  372 non-null    float64\n",
      " 4   Pressure_Avg    372 non-null    float64\n",
      " 5   Precipitation   372 non-null    float64\n",
      "dtypes: float64(6)\n",
      "memory usage: 20.3 KB\n"
     ]
    }
   ],
   "source": [
    "weather_data.info()"
   ]
  },
  {
   "cell_type": "markdown",
   "id": "8fc7f91d",
   "metadata": {},
   "source": [
    "### Correlation and plots"
   ]
  },
  {
   "cell_type": "markdown",
   "id": "757069fd",
   "metadata": {},
   "source": [
    "The data below indicates the negative correlation of pressure and temperature to precipitation, and scatterplots of each average showing need for logistic regression."
   ]
  },
  {
   "cell_type": "code",
   "execution_count": 12,
   "id": "10ae2bed",
   "metadata": {},
   "outputs": [
    {
     "data": {
      "text/plain": [
       "Precipitation     1.000000\n",
       "Humidity_Avg      0.389516\n",
       "Wind_Speed_Avg    0.127178\n",
       "Dew_Pt_Avg        0.060227\n",
       "Pressure_Avg     -0.189833\n",
       "Temp_Avg         -0.232861\n",
       "Name: Precipitation, dtype: float64"
      ]
     },
     "execution_count": 12,
     "metadata": {},
     "output_type": "execute_result"
    }
   ],
   "source": [
    "weather_data.corr()[\"Precipitation\"].sort_values(ascending = False)"
   ]
  },
  {
   "cell_type": "code",
   "execution_count": 13,
   "id": "797ddc3a",
   "metadata": {},
   "outputs": [
    {
     "data": {
      "text/plain": [
       "<AxesSubplot:xlabel='Pressure_Avg', ylabel='Precipitation'>"
      ]
     },
     "execution_count": 13,
     "metadata": {},
     "output_type": "execute_result"
    },
    {
     "data": {
      "image/png": "[encoded data removed]",
      "text/plain": [
       "<Figure size 360x216 with 1 Axes>"
      ]
     },
     "metadata": {
      "needs_background": "light"
     },
     "output_type": "display_data"
    }
   ],
   "source": [
    "plt.figure(figsize = (5,3))\n",
    "sns.scatterplot(x = \"Pressure_Avg\", y = \"Precipitation\", data = weather_data)"
   ]
  },
  {
   "cell_type": "code",
   "execution_count": 14,
   "id": "507619d9",
   "metadata": {},
   "outputs": [
    {
     "data": {
      "text/plain": [
       "<AxesSubplot:xlabel='Wind_Speed_Avg', ylabel='Precipitation'>"
      ]
     },
     "execution_count": 14,
     "metadata": {},
     "output_type": "execute_result"
    },
    {
     "data": {
      "image/png": "[encoded data removed]",
      "text/plain": [
       "<Figure size 360x216 with 1 Axes>"
      ]
     },
     "metadata": {
      "needs_background": "light"
     },
     "output_type": "display_data"
    }
   ],
   "source": [
    "plt.figure(figsize = (5,3))\n",
    "sns.scatterplot(x = \"Wind_Speed_Avg\", y = \"Precipitation\", data = weather_data)"
   ]
  },
  {
   "cell_type": "code",
   "execution_count": 15,
   "id": "4e2b69bb",
   "metadata": {},
   "outputs": [
    {
     "data": {
      "text/plain": [
       "<AxesSubplot:xlabel='Temp_Avg', ylabel='Precipitation'>"
      ]
     },
     "execution_count": 15,
     "metadata": {},
     "output_type": "execute_result"
    },
    {
     "data": {
      "image/png": "[encoded data removed]",
      "text/plain": [
       "<Figure size 360x216 with 1 Axes>"
      ]
     },
     "metadata": {
      "needs_background": "light"
     },
     "output_type": "display_data"
    }
   ],
   "source": [
    "plt.figure(figsize = (5,3))\n",
    "sns.scatterplot(x = \"Temp_Avg\", y = \"Precipitation\", data = weather_data)"
   ]
  },
  {
   "cell_type": "code",
   "execution_count": 16,
   "id": "cb46df36",
   "metadata": {},
   "outputs": [
    {
     "data": {
      "text/plain": [
       "<AxesSubplot:xlabel='Wind_Speed_Avg', ylabel='Precipitation'>"
      ]
     },
     "execution_count": 16,
     "metadata": {},
     "output_type": "execute_result"
    },
    {
     "data": {
      "image/png": "[encoded data removed]",
      "text/plain": [
       "<Figure size 360x216 with 1 Axes>"
      ]
     },
     "metadata": {
      "needs_background": "light"
     },
     "output_type": "display_data"
    }
   ],
   "source": [
    "plt.figure(figsize = (5,3))\n",
    "sns.scatterplot(x = \"Wind_Speed_Avg\", y = \"Precipitation\", data = weather_data)"
   ]
  },
  {
   "cell_type": "code",
   "execution_count": 17,
   "id": "7024cbdd",
   "metadata": {},
   "outputs": [
    {
     "data": {
      "text/plain": [
       "<AxesSubplot:xlabel='Humidity_Avg', ylabel='Precipitation'>"
      ]
     },
     "execution_count": 17,
     "metadata": {},
     "output_type": "execute_result"
    },
    {
     "data": {
      "image/png": "[encoded data removed]",
      "text/plain": [
       "<Figure size 360x216 with 1 Axes>"
      ]
     },
     "metadata": {
      "needs_background": "light"
     },
     "output_type": "display_data"
    }
   ],
   "source": [
    "plt.figure(figsize = (5,3))\n",
    "sns.scatterplot(x = \"Humidity_Avg\", y = \"Precipitation\", data = weather_data)"
   ]
  },
  {
   "cell_type": "code",
   "execution_count": 18,
   "id": "91e1648f",
   "metadata": {},
   "outputs": [
    {
     "data": {
      "text/html": [
       "<div>\n",
       "<style scoped>\n",
       "    .dataframe tbody tr th:only-of-type {\n",
       "        vertical-align: middle;\n",
       "    }\n",
       "\n",
       "    .dataframe tbody tr th {\n",
       "        vertical-align: top;\n",
       "    }\n",
       "\n",
       "    .dataframe thead th {\n",
       "        text-align: right;\n",
       "    }\n",
       "</style>\n",
       "<table border=\"1\" class=\"dataframe\">\n",
       "  <thead>\n",
       "    <tr style=\"text-align: right;\">\n",
       "      <th></th>\n",
       "      <th>Temp_Avg</th>\n",
       "      <th>Dew_Pt_Avg</th>\n",
       "      <th>Humidity_Avg</th>\n",
       "      <th>Wind_Speed_Avg</th>\n",
       "      <th>Pressure_Avg</th>\n",
       "      <th>Precipitation</th>\n",
       "    </tr>\n",
       "    <tr>\n",
       "      <th>Date</th>\n",
       "      <th></th>\n",
       "      <th></th>\n",
       "      <th></th>\n",
       "      <th></th>\n",
       "      <th></th>\n",
       "      <th></th>\n",
       "    </tr>\n",
       "  </thead>\n",
       "  <tbody>\n",
       "    <tr>\n",
       "      <th>2021-09-11</th>\n",
       "      <td>59.3</td>\n",
       "      <td>52.8</td>\n",
       "      <td>84.0</td>\n",
       "      <td>3.7</td>\n",
       "      <td>27.2</td>\n",
       "      <td>1.0</td>\n",
       "    </tr>\n",
       "    <tr>\n",
       "      <th>2021-09-19</th>\n",
       "      <td>57.4</td>\n",
       "      <td>42.8</td>\n",
       "      <td>60.6</td>\n",
       "      <td>10.7</td>\n",
       "      <td>27.0</td>\n",
       "      <td>1.0</td>\n",
       "    </tr>\n",
       "    <tr>\n",
       "      <th>2021-09-20</th>\n",
       "      <td>54.4</td>\n",
       "      <td>36.4</td>\n",
       "      <td>54.5</td>\n",
       "      <td>6.2</td>\n",
       "      <td>27.3</td>\n",
       "      <td>1.0</td>\n",
       "    </tr>\n",
       "    <tr>\n",
       "      <th>2021-09-28</th>\n",
       "      <td>51.7</td>\n",
       "      <td>41.3</td>\n",
       "      <td>70.8</td>\n",
       "      <td>8.9</td>\n",
       "      <td>27.0</td>\n",
       "      <td>1.0</td>\n",
       "    </tr>\n",
       "    <tr>\n",
       "      <th>2021-09-29</th>\n",
       "      <td>51.3</td>\n",
       "      <td>33.1</td>\n",
       "      <td>54.6</td>\n",
       "      <td>6.1</td>\n",
       "      <td>27.2</td>\n",
       "      <td>1.0</td>\n",
       "    </tr>\n",
       "    <tr>\n",
       "      <th>...</th>\n",
       "      <td>...</td>\n",
       "      <td>...</td>\n",
       "      <td>...</td>\n",
       "      <td>...</td>\n",
       "      <td>...</td>\n",
       "      <td>...</td>\n",
       "    </tr>\n",
       "    <tr>\n",
       "      <th>2022-07-11</th>\n",
       "      <td>83.7</td>\n",
       "      <td>54.6</td>\n",
       "      <td>39.2</td>\n",
       "      <td>5.9</td>\n",
       "      <td>27.1</td>\n",
       "      <td>1.0</td>\n",
       "    </tr>\n",
       "    <tr>\n",
       "      <th>2022-07-20</th>\n",
       "      <td>82.3</td>\n",
       "      <td>51.8</td>\n",
       "      <td>37.3</td>\n",
       "      <td>7.0</td>\n",
       "      <td>26.9</td>\n",
       "      <td>1.0</td>\n",
       "    </tr>\n",
       "    <tr>\n",
       "      <th>2022-08-03</th>\n",
       "      <td>75.7</td>\n",
       "      <td>45.0</td>\n",
       "      <td>32.9</td>\n",
       "      <td>5.7</td>\n",
       "      <td>27.0</td>\n",
       "      <td>1.0</td>\n",
       "    </tr>\n",
       "    <tr>\n",
       "      <th>2022-08-11</th>\n",
       "      <td>83.7</td>\n",
       "      <td>54.6</td>\n",
       "      <td>39.2</td>\n",
       "      <td>5.9</td>\n",
       "      <td>27.1</td>\n",
       "      <td>1.0</td>\n",
       "    </tr>\n",
       "    <tr>\n",
       "      <th>2022-08-20</th>\n",
       "      <td>82.3</td>\n",
       "      <td>51.8</td>\n",
       "      <td>37.3</td>\n",
       "      <td>7.0</td>\n",
       "      <td>26.9</td>\n",
       "      <td>1.0</td>\n",
       "    </tr>\n",
       "  </tbody>\n",
       "</table>\n",
       "<p>85 rows × 6 columns</p>\n",
       "</div>"
      ],
      "text/plain": [
       "            Temp_Avg  Dew_Pt_Avg  Humidity_Avg  Wind_Speed_Avg  Pressure_Avg  \\\n",
       "Date                                                                           \n",
       "2021-09-11      59.3        52.8          84.0             3.7          27.2   \n",
       "2021-09-19      57.4        42.8          60.6            10.7          27.0   \n",
       "2021-09-20      54.4        36.4          54.5             6.2          27.3   \n",
       "2021-09-28      51.7        41.3          70.8             8.9          27.0   \n",
       "2021-09-29      51.3        33.1          54.6             6.1          27.2   \n",
       "...              ...         ...           ...             ...           ...   \n",
       "2022-07-11      83.7        54.6          39.2             5.9          27.1   \n",
       "2022-07-20      82.3        51.8          37.3             7.0          26.9   \n",
       "2022-08-03      75.7        45.0          32.9             5.7          27.0   \n",
       "2022-08-11      83.7        54.6          39.2             5.9          27.1   \n",
       "2022-08-20      82.3        51.8          37.3             7.0          26.9   \n",
       "\n",
       "            Precipitation  \n",
       "Date                       \n",
       "2021-09-11            1.0  \n",
       "2021-09-19            1.0  \n",
       "2021-09-20            1.0  \n",
       "2021-09-28            1.0  \n",
       "2021-09-29            1.0  \n",
       "...                   ...  \n",
       "2022-07-11            1.0  \n",
       "2022-07-20            1.0  \n",
       "2022-08-03            1.0  \n",
       "2022-08-11            1.0  \n",
       "2022-08-20            1.0  \n",
       "\n",
       "[85 rows x 6 columns]"
      ]
     },
     "execution_count": 18,
     "metadata": {},
     "output_type": "execute_result"
    }
   ],
   "source": [
    "precip_days = weather_data.loc[weather_data.Precipitation >0]\n",
    "precip_days"
   ]
  },
  {
   "cell_type": "markdown",
   "id": "1ba7f489",
   "metadata": {},
   "source": [
    "### Logistic Regression"
   ]
  },
  {
   "cell_type": "code",
   "execution_count": 19,
   "id": "487d3879",
   "metadata": {},
   "outputs": [
    {
     "data": {
      "text/html": [
       "<div>\n",
       "<style scoped>\n",
       "    .dataframe tbody tr th:only-of-type {\n",
       "        vertical-align: middle;\n",
       "    }\n",
       "\n",
       "    .dataframe tbody tr th {\n",
       "        vertical-align: top;\n",
       "    }\n",
       "\n",
       "    .dataframe thead th {\n",
       "        text-align: right;\n",
       "    }\n",
       "</style>\n",
       "<table border=\"1\" class=\"dataframe\">\n",
       "  <thead>\n",
       "    <tr style=\"text-align: right;\">\n",
       "      <th></th>\n",
       "      <th>Temp_Avg</th>\n",
       "      <th>Dew_Pt_Avg</th>\n",
       "      <th>Humidity_Avg</th>\n",
       "      <th>Wind_Speed_Avg</th>\n",
       "      <th>Pressure_Avg</th>\n",
       "    </tr>\n",
       "    <tr>\n",
       "      <th>Date</th>\n",
       "      <th></th>\n",
       "      <th></th>\n",
       "      <th></th>\n",
       "      <th></th>\n",
       "      <th></th>\n",
       "    </tr>\n",
       "  </thead>\n",
       "  <tbody>\n",
       "    <tr>\n",
       "      <th>2021-09-01</th>\n",
       "      <td>62.4</td>\n",
       "      <td>30.7</td>\n",
       "      <td>34.0</td>\n",
       "      <td>5.5</td>\n",
       "      <td>26.9</td>\n",
       "    </tr>\n",
       "    <tr>\n",
       "      <th>2021-09-02</th>\n",
       "      <td>63.2</td>\n",
       "      <td>31.7</td>\n",
       "      <td>34.6</td>\n",
       "      <td>6.2</td>\n",
       "      <td>27.0</td>\n",
       "    </tr>\n",
       "    <tr>\n",
       "      <th>2021-09-03</th>\n",
       "      <td>64.0</td>\n",
       "      <td>27.8</td>\n",
       "      <td>30.2</td>\n",
       "      <td>4.0</td>\n",
       "      <td>27.1</td>\n",
       "    </tr>\n",
       "    <tr>\n",
       "      <th>2021-09-04</th>\n",
       "      <td>70.3</td>\n",
       "      <td>22.8</td>\n",
       "      <td>18.7</td>\n",
       "      <td>5.2</td>\n",
       "      <td>27.1</td>\n",
       "    </tr>\n",
       "    <tr>\n",
       "      <th>2021-09-05</th>\n",
       "      <td>74.3</td>\n",
       "      <td>25.3</td>\n",
       "      <td>18.4</td>\n",
       "      <td>5.0</td>\n",
       "      <td>27.0</td>\n",
       "    </tr>\n",
       "    <tr>\n",
       "      <th>...</th>\n",
       "      <td>...</td>\n",
       "      <td>...</td>\n",
       "      <td>...</td>\n",
       "      <td>...</td>\n",
       "      <td>...</td>\n",
       "    </tr>\n",
       "    <tr>\n",
       "      <th>2022-09-03</th>\n",
       "      <td>84.3</td>\n",
       "      <td>29.5</td>\n",
       "      <td>14.9</td>\n",
       "      <td>7.8</td>\n",
       "      <td>27.0</td>\n",
       "    </tr>\n",
       "    <tr>\n",
       "      <th>2022-09-04</th>\n",
       "      <td>79.3</td>\n",
       "      <td>37.0</td>\n",
       "      <td>25.3</td>\n",
       "      <td>5.3</td>\n",
       "      <td>27.0</td>\n",
       "    </tr>\n",
       "    <tr>\n",
       "      <th>2022-09-05</th>\n",
       "      <td>78.0</td>\n",
       "      <td>34.1</td>\n",
       "      <td>21.6</td>\n",
       "      <td>6.0</td>\n",
       "      <td>27.0</td>\n",
       "    </tr>\n",
       "    <tr>\n",
       "      <th>2022-09-06</th>\n",
       "      <td>81.2</td>\n",
       "      <td>37.3</td>\n",
       "      <td>21.8</td>\n",
       "      <td>5.5</td>\n",
       "      <td>27.0</td>\n",
       "    </tr>\n",
       "    <tr>\n",
       "      <th>2022-09-07</th>\n",
       "      <td>85.7</td>\n",
       "      <td>39.1</td>\n",
       "      <td>21.4</td>\n",
       "      <td>8.6</td>\n",
       "      <td>27.0</td>\n",
       "    </tr>\n",
       "  </tbody>\n",
       "</table>\n",
       "<p>372 rows × 5 columns</p>\n",
       "</div>"
      ],
      "text/plain": [
       "            Temp_Avg  Dew_Pt_Avg  Humidity_Avg  Wind_Speed_Avg  Pressure_Avg\n",
       "Date                                                                        \n",
       "2021-09-01      62.4        30.7          34.0             5.5          26.9\n",
       "2021-09-02      63.2        31.7          34.6             6.2          27.0\n",
       "2021-09-03      64.0        27.8          30.2             4.0          27.1\n",
       "2021-09-04      70.3        22.8          18.7             5.2          27.1\n",
       "2021-09-05      74.3        25.3          18.4             5.0          27.0\n",
       "...              ...         ...           ...             ...           ...\n",
       "2022-09-03      84.3        29.5          14.9             7.8          27.0\n",
       "2022-09-04      79.3        37.0          25.3             5.3          27.0\n",
       "2022-09-05      78.0        34.1          21.6             6.0          27.0\n",
       "2022-09-06      81.2        37.3          21.8             5.5          27.0\n",
       "2022-09-07      85.7        39.1          21.4             8.6          27.0\n",
       "\n",
       "[372 rows x 5 columns]"
      ]
     },
     "execution_count": 19,
     "metadata": {},
     "output_type": "execute_result"
    }
   ],
   "source": [
    "X = weather_data.drop(\"Precipitation\", axis = 1)\n",
    "X"
   ]
  },
  {
   "cell_type": "code",
   "execution_count": 20,
   "id": "84047b48",
   "metadata": {},
   "outputs": [
    {
     "data": {
      "text/plain": [
       "Date\n",
       "2021-09-01    0.0\n",
       "2021-09-02    0.0\n",
       "2021-09-03    0.0\n",
       "2021-09-04    0.0\n",
       "2021-09-05    0.0\n",
       "             ... \n",
       "2022-09-03    0.0\n",
       "2022-09-04    0.0\n",
       "2022-09-05    0.0\n",
       "2022-09-06    0.0\n",
       "2022-09-07    0.0\n",
       "Name: Precipitation, Length: 372, dtype: float64"
      ]
     },
     "execution_count": 20,
     "metadata": {},
     "output_type": "execute_result"
    }
   ],
   "source": [
    "y = weather_data[\"Precipitation\"]\n",
    "y"
   ]
  },
  {
   "cell_type": "code",
   "execution_count": 21,
   "id": "a2767842",
   "metadata": {},
   "outputs": [],
   "source": [
    "from sklearn.model_selection import train_test_split"
   ]
  },
  {
   "cell_type": "code",
   "execution_count": 22,
   "id": "81db9535",
   "metadata": {},
   "outputs": [],
   "source": [
    "from sklearn.preprocessing import StandardScaler"
   ]
  },
  {
   "cell_type": "code",
   "execution_count": 23,
   "id": "78aedd2a",
   "metadata": {},
   "outputs": [],
   "source": [
    "X_train, X_test, y_train, y_test = train_test_split(X, y, test_size=0.2, random_state=101)\n",
    "..."
   ]
  },
  {
   "cell_type": "code",
   "execution_count": 24,
   "id": "20dd1edf",
   "metadata": {},
   "outputs": [],
   "source": [
    "scaler = StandardScaler()"
   ]
  },
  {
   "cell_type": "code",
   "execution_count": 25,
   "id": "8a2de631",
   "metadata": {},
   "outputs": [],
   "source": [
    "scaled_X_train = scaler.fit_transform(X_train) "
   ]
  },
  {
   "cell_type": "code",
   "execution_count": 26,
   "id": "4aac81cf",
   "metadata": {},
   "outputs": [],
   "source": [
    "scaled_X_test = scaler.transform(X_test)"
   ]
  },
  {
   "cell_type": "code",
   "execution_count": 27,
   "id": "c72cd550",
   "metadata": {},
   "outputs": [
    {
     "data": {
      "text/plain": [
       "Date\n",
       "2021-12-05    0.0\n",
       "2021-10-09    1.0\n",
       "2021-11-29    0.0\n",
       "2022-08-09    0.0\n",
       "2022-02-17    1.0\n",
       "             ... \n",
       "2022-05-24    0.0\n",
       "2022-04-21    0.0\n",
       "2022-08-26    0.0\n",
       "2022-07-31    0.0\n",
       "2022-06-30    0.0\n",
       "Name: Precipitation, Length: 75, dtype: float64"
      ]
     },
     "execution_count": 27,
     "metadata": {},
     "output_type": "execute_result"
    }
   ],
   "source": [
    "y_test"
   ]
  },
  {
   "cell_type": "code",
   "execution_count": 28,
   "id": "05fabfa7",
   "metadata": {},
   "outputs": [],
   "source": [
    "from sklearn.linear_model import LogisticRegression"
   ]
  },
  {
   "cell_type": "code",
   "execution_count": 29,
   "id": "b11500b2",
   "metadata": {},
   "outputs": [],
   "source": [
    "log_model = LogisticRegression()"
   ]
  },
  {
   "cell_type": "code",
   "execution_count": 30,
   "id": "0a641e78",
   "metadata": {},
   "outputs": [
    {
     "data": {
      "text/plain": [
       "LogisticRegression()"
      ]
     },
     "execution_count": 30,
     "metadata": {},
     "output_type": "execute_result"
    }
   ],
   "source": [
    "log_model.fit(scaled_X_train, y_train)"
   ]
  },
  {
   "cell_type": "code",
   "execution_count": 31,
   "id": "e5adb98b",
   "metadata": {},
   "outputs": [],
   "source": [
    "y_pred_pr = log_model.predict_proba(scaled_X_test)"
   ]
  },
  {
   "cell_type": "code",
   "execution_count": 32,
   "id": "e3855436",
   "metadata": {},
   "outputs": [
    {
     "data": {
      "text/plain": [
       "array([[0.79259213, 0.20740787],\n",
       "       [0.77041819, 0.22958181],\n",
       "       [0.67737301, 0.32262699],\n",
       "       [0.95275867, 0.04724133],\n",
       "       [0.91150228, 0.08849772],\n",
       "       [0.42739346, 0.57260654],\n",
       "       [0.90118622, 0.09881378],\n",
       "       [0.26865122, 0.73134878],\n",
       "       [0.65955648, 0.34044352],\n",
       "       [0.80504107, 0.19495893],\n",
       "       [0.90959351, 0.09040649],\n",
       "       [0.84471288, 0.15528712],\n",
       "       [0.41799251, 0.58200749],\n",
       "       [0.8917618 , 0.1082382 ],\n",
       "       [0.62909477, 0.37090523],\n",
       "       [0.74412055, 0.25587945],\n",
       "       [0.70522106, 0.29477894],\n",
       "       [0.74216764, 0.25783236],\n",
       "       [0.95577574, 0.04422426],\n",
       "       [0.81659265, 0.18340735],\n",
       "       [0.84849966, 0.15150034],\n",
       "       [0.73844363, 0.26155637],\n",
       "       [0.97700737, 0.02299263],\n",
       "       [0.97586881, 0.02413119],\n",
       "       [0.84892884, 0.15107116],\n",
       "       [0.85011932, 0.14988068],\n",
       "       [0.59956932, 0.40043068],\n",
       "       [0.84589412, 0.15410588],\n",
       "       [0.60074471, 0.39925529],\n",
       "       [0.77153194, 0.22846806],\n",
       "       [0.95991907, 0.04008093],\n",
       "       [0.95834956, 0.04165044],\n",
       "       [0.78413246, 0.21586754],\n",
       "       [0.88237811, 0.11762189],\n",
       "       [0.79659835, 0.20340165],\n",
       "       [0.87467958, 0.12532042],\n",
       "       [0.54841812, 0.45158188],\n",
       "       [0.68166589, 0.31833411],\n",
       "       [0.72532218, 0.27467782],\n",
       "       [0.87929153, 0.12070847],\n",
       "       [0.98701036, 0.01298964],\n",
       "       [0.94152178, 0.05847822],\n",
       "       [0.93837517, 0.06162483],\n",
       "       [0.60725162, 0.39274838],\n",
       "       [0.89526723, 0.10473277],\n",
       "       [0.98629964, 0.01370036],\n",
       "       [0.38882164, 0.61117836],\n",
       "       [0.92476268, 0.07523732],\n",
       "       [0.89321832, 0.10678168],\n",
       "       [0.88213302, 0.11786698],\n",
       "       [0.86320708, 0.13679292],\n",
       "       [0.57977722, 0.42022278],\n",
       "       [0.95991907, 0.04008093],\n",
       "       [0.167564  , 0.832436  ],\n",
       "       [0.81751651, 0.18248349],\n",
       "       [0.21398898, 0.78601102],\n",
       "       [0.87837585, 0.12162415],\n",
       "       [0.94318792, 0.05681208],\n",
       "       [0.6213036 , 0.3786964 ],\n",
       "       [0.97926727, 0.02073273],\n",
       "       [0.9535827 , 0.0464173 ],\n",
       "       [0.53111613, 0.46888387],\n",
       "       [0.97318406, 0.02681594],\n",
       "       [0.66478281, 0.33521719],\n",
       "       [0.8730324 , 0.1269676 ],\n",
       "       [0.86915564, 0.13084436],\n",
       "       [0.91671444, 0.08328556],\n",
       "       [0.59260759, 0.40739241],\n",
       "       [0.88196222, 0.11803778],\n",
       "       [0.74971385, 0.25028615],\n",
       "       [0.92015306, 0.07984694],\n",
       "       [0.49808033, 0.50191967],\n",
       "       [0.94398916, 0.05601084],\n",
       "       [0.97985833, 0.02014167],\n",
       "       [0.97661886, 0.02338114]])"
      ]
     },
     "execution_count": 32,
     "metadata": {},
     "output_type": "execute_result"
    }
   ],
   "source": [
    "y_pred_pr #(probability of 0 class vs 1 class of precipitation)"
   ]
  },
  {
   "cell_type": "code",
   "execution_count": 33,
   "id": "d39fc5e2",
   "metadata": {},
   "outputs": [
    {
     "data": {
      "text/plain": [
       "array([[-0.36691219,  0.45595844,  1.11756962,  0.23102112, -0.46029943]])"
      ]
     },
     "execution_count": 33,
     "metadata": {},
     "output_type": "execute_result"
    }
   ],
   "source": [
    "log_model.coef_"
   ]
  },
  {
   "cell_type": "markdown",
   "id": "129f6343",
   "metadata": {},
   "source": [
    "The log_model.coef indicates that for each feature, the corresponding coefficient indicates the probability that there would be precipitation, i.e if Temp_Avg rises by 1 unit, the probability of precipitation decreases, if Dew_Pt_Average increases by 1 unit, the probability of precipitation increases, and so on for each feature.¶"
   ]
  },
  {
   "cell_type": "code",
   "execution_count": 34,
   "id": "38461344",
   "metadata": {},
   "outputs": [
    {
     "data": {
      "text/plain": [
       "Index(['Temp_Avg', 'Dew_Pt_Avg', 'Humidity_Avg', 'Wind_Speed_Avg',\n",
       "       'Pressure_Avg'],\n",
       "      dtype='object')"
      ]
     },
     "execution_count": 34,
     "metadata": {},
     "output_type": "execute_result"
    }
   ],
   "source": [
    "X.columns"
   ]
  },
  {
   "cell_type": "code",
   "execution_count": 35,
   "id": "07fe123c",
   "metadata": {},
   "outputs": [
    {
     "data": {
      "text/html": [
       "<div>\n",
       "<style scoped>\n",
       "    .dataframe tbody tr th:only-of-type {\n",
       "        vertical-align: middle;\n",
       "    }\n",
       "\n",
       "    .dataframe tbody tr th {\n",
       "        vertical-align: top;\n",
       "    }\n",
       "\n",
       "    .dataframe thead th {\n",
       "        text-align: right;\n",
       "    }\n",
       "</style>\n",
       "<table border=\"1\" class=\"dataframe\">\n",
       "  <thead>\n",
       "    <tr style=\"text-align: right;\">\n",
       "      <th></th>\n",
       "      <th>Temp_Avg</th>\n",
       "      <th>Dew_Pt_Avg</th>\n",
       "      <th>Humidity_Avg</th>\n",
       "      <th>Wind_Speed_Avg</th>\n",
       "      <th>Pressure_Avg</th>\n",
       "    </tr>\n",
       "    <tr>\n",
       "      <th>Date</th>\n",
       "      <th></th>\n",
       "      <th></th>\n",
       "      <th></th>\n",
       "      <th></th>\n",
       "      <th></th>\n",
       "    </tr>\n",
       "  </thead>\n",
       "  <tbody>\n",
       "    <tr>\n",
       "      <th>2021-12-05</th>\n",
       "      <td>39.5</td>\n",
       "      <td>27.4</td>\n",
       "      <td>63.9</td>\n",
       "      <td>8.4</td>\n",
       "      <td>27.2</td>\n",
       "    </tr>\n",
       "    <tr>\n",
       "      <th>2021-10-09</th>\n",
       "      <td>52.0</td>\n",
       "      <td>35.6</td>\n",
       "      <td>56.0</td>\n",
       "      <td>10.8</td>\n",
       "      <td>27.1</td>\n",
       "    </tr>\n",
       "    <tr>\n",
       "      <th>2021-11-29</th>\n",
       "      <td>38.9</td>\n",
       "      <td>33.4</td>\n",
       "      <td>81.8</td>\n",
       "      <td>2.7</td>\n",
       "      <td>27.3</td>\n",
       "    </tr>\n",
       "    <tr>\n",
       "      <th>2022-08-09</th>\n",
       "      <td>85.3</td>\n",
       "      <td>43.8</td>\n",
       "      <td>25.1</td>\n",
       "      <td>9.4</td>\n",
       "      <td>27.0</td>\n",
       "    </tr>\n",
       "    <tr>\n",
       "      <th>2022-02-17</th>\n",
       "      <td>34.9</td>\n",
       "      <td>22.4</td>\n",
       "      <td>59.4</td>\n",
       "      <td>3.4</td>\n",
       "      <td>27.3</td>\n",
       "    </tr>\n",
       "    <tr>\n",
       "      <th>...</th>\n",
       "      <td>...</td>\n",
       "      <td>...</td>\n",
       "      <td>...</td>\n",
       "      <td>...</td>\n",
       "      <td>...</td>\n",
       "    </tr>\n",
       "    <tr>\n",
       "      <th>2022-05-24</th>\n",
       "      <td>59.6</td>\n",
       "      <td>32.2</td>\n",
       "      <td>39.5</td>\n",
       "      <td>6.9</td>\n",
       "      <td>27.0</td>\n",
       "    </tr>\n",
       "    <tr>\n",
       "      <th>2022-04-21</th>\n",
       "      <td>49.4</td>\n",
       "      <td>37.4</td>\n",
       "      <td>64.6</td>\n",
       "      <td>9.2</td>\n",
       "      <td>26.8</td>\n",
       "    </tr>\n",
       "    <tr>\n",
       "      <th>2022-08-26</th>\n",
       "      <td>80.5</td>\n",
       "      <td>43.3</td>\n",
       "      <td>29.8</td>\n",
       "      <td>4.0</td>\n",
       "      <td>26.9</td>\n",
       "    </tr>\n",
       "    <tr>\n",
       "      <th>2022-07-31</th>\n",
       "      <td>87.3</td>\n",
       "      <td>37.2</td>\n",
       "      <td>18.7</td>\n",
       "      <td>6.8</td>\n",
       "      <td>27.0</td>\n",
       "    </tr>\n",
       "    <tr>\n",
       "      <th>2022-06-30</th>\n",
       "      <td>76.0</td>\n",
       "      <td>32.4</td>\n",
       "      <td>23.3</td>\n",
       "      <td>5.5</td>\n",
       "      <td>27.0</td>\n",
       "    </tr>\n",
       "  </tbody>\n",
       "</table>\n",
       "<p>75 rows × 5 columns</p>\n",
       "</div>"
      ],
      "text/plain": [
       "            Temp_Avg  Dew_Pt_Avg  Humidity_Avg  Wind_Speed_Avg  Pressure_Avg\n",
       "Date                                                                        \n",
       "2021-12-05      39.5        27.4          63.9             8.4          27.2\n",
       "2021-10-09      52.0        35.6          56.0            10.8          27.1\n",
       "2021-11-29      38.9        33.4          81.8             2.7          27.3\n",
       "2022-08-09      85.3        43.8          25.1             9.4          27.0\n",
       "2022-02-17      34.9        22.4          59.4             3.4          27.3\n",
       "...              ...         ...           ...             ...           ...\n",
       "2022-05-24      59.6        32.2          39.5             6.9          27.0\n",
       "2022-04-21      49.4        37.4          64.6             9.2          26.8\n",
       "2022-08-26      80.5        43.3          29.8             4.0          26.9\n",
       "2022-07-31      87.3        37.2          18.7             6.8          27.0\n",
       "2022-06-30      76.0        32.4          23.3             5.5          27.0\n",
       "\n",
       "[75 rows x 5 columns]"
      ]
     },
     "execution_count": 35,
     "metadata": {},
     "output_type": "execute_result"
    }
   ],
   "source": [
    "X_test"
   ]
  },
  {
   "cell_type": "markdown",
   "id": "d01424f4",
   "metadata": {},
   "source": [
    "### Regression metrics"
   ]
  },
  {
   "cell_type": "code",
   "execution_count": 36,
   "id": "9ccc4839",
   "metadata": {},
   "outputs": [],
   "source": [
    "from sklearn.metrics import classification_report"
   ]
  },
  {
   "cell_type": "markdown",
   "id": "53cde66b",
   "metadata": {},
   "source": [
    "This report gives the probability of a 1 in the precipitation column using three different categories - precision, recall and f1-score.  Precision is accuracy, recall is ratio of class to total, f1 score is mean of precision & recall. "
   ]
  },
  {
   "cell_type": "code",
   "execution_count": 37,
   "id": "13d21b84",
   "metadata": {},
   "outputs": [
    {
     "data": {
      "text/plain": [
       "array([0., 0., 0., 0., 0., 1., 0., 1., 0., 0., 0., 0., 1., 0., 0., 0., 0.,\n",
       "       0., 0., 0., 0., 0., 0., 0., 0., 0., 0., 0., 0., 0., 0., 0., 0., 0.,\n",
       "       0., 0., 0., 0., 0., 0., 0., 0., 0., 0., 0., 0., 1., 0., 0., 0., 0.,\n",
       "       0., 0., 1., 0., 1., 0., 0., 0., 0., 0., 0., 0., 0., 0., 0., 0., 0.,\n",
       "       0., 0., 0., 1., 0., 0., 0.])"
      ]
     },
     "execution_count": 37,
     "metadata": {},
     "output_type": "execute_result"
    }
   ],
   "source": [
    "y_pred = log_model.predict(scaled_X_test)\n",
    "y_pred"
   ]
  },
  {
   "cell_type": "code",
   "execution_count": 38,
   "id": "1bd2bd93",
   "metadata": {},
   "outputs": [
    {
     "name": "stdout",
     "output_type": "stream",
     "text": [
      "              precision    recall  f1-score   support\n",
      "\n",
      "         0.0       0.78      0.96      0.86        55\n",
      "         1.0       0.71      0.25      0.37        20\n",
      "\n",
      "    accuracy                           0.77        75\n",
      "   macro avg       0.75      0.61      0.62        75\n",
      "weighted avg       0.76      0.77      0.73        75\n",
      "\n"
     ]
    }
   ],
   "source": [
    "print(classification_report(y_test, y_pred))"
   ]
  },
  {
   "cell_type": "markdown",
   "id": "d3f1c80f",
   "metadata": {},
   "source": [
    "### Visualization"
   ]
  },
  {
   "cell_type": "markdown",
   "id": "e45356cb",
   "metadata": {},
   "source": [
    "This chart shows the exact opposite of what I would expect.  Pressure and temperature would drop if rain is expected, and this is confirmed by the correlation above.  I altered the visualization to show the pressure and temperature in blue at th top, I'm not sure how to fix the negative results."
   ]
  },
  {
   "cell_type": "code",
   "execution_count": 39,
   "id": "9ca6eb16",
   "metadata": {},
   "outputs": [
    {
     "data": {
      "image/png": "[encoded data removed]",
      "text/plain": [
       "<Figure size 792x432 with 1 Axes>"
      ]
     },
     "metadata": {
      "needs_background": "light"
     },
     "output_type": "display_data"
    }
   ],
   "source": [
    "coeff = list(log_model.coef_[0])\n",
    "labels = list(X_train.columns)\n",
    "features = pd.DataFrame()\n",
    "features['Features'] = labels\n",
    "features['importance'] = coeff\n",
    "features.sort_values(by=['importance'], ascending=False, inplace=True)\n",
    "features['negative'] = features['importance'] < 0\n",
    "features.set_index('Features', inplace=True)\n",
    "features.importance.plot(kind='barh', figsize=(11, 6),color = features.negative.map({True: 'blue', False: 'red'}))\n",
    "plt.xlabel('Importance')\n",
    "plt.show()"
   ]
  },
  {
   "cell_type": "code",
   "execution_count": null,
   "id": "b1ab2b02",
   "metadata": {},
   "outputs": [],
   "source": []
  }
 ],
 "metadata": {
  "kernelspec": {
   "display_name": "Python 3 (ipykernel)",
   "language": "python",
   "name": "python3"
  },
  "language_info": {
   "codemirror_mode": {
    "name": "ipython",
    "version": 3
   },
   "file_extension": ".py",
   "mimetype": "text/x-python",
   "name": "python",
   "nbconvert_exporter": "python",
   "pygments_lexer": "ipython3",
   "version": "3.9.7"
  }
 },
 "nbformat": 4,
 "nbformat_minor": 5
}
